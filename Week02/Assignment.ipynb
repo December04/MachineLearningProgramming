{
  "nbformat": 4,
  "nbformat_minor": 0,
  "metadata": {
    "colab": {
      "provenance": [],
      "mount_file_id": "14S24KM-4GW691kQ-fOgJ_H5WTMeqYwVD",
      "authorship_tag": "ABX9TyP8bERFzkU3rEruvb4iK62T",
      "include_colab_link": true
    },
    "kernelspec": {
      "name": "python3",
      "display_name": "Python 3"
    },
    "language_info": {
      "name": "python"
    }
  },
  "cells": [
    {
      "cell_type": "markdown",
      "metadata": {
        "id": "view-in-github",
        "colab_type": "text"
      },
      "source": [
        "<a href=\"https://colab.research.google.com/github/December04/MachineLearningProgramming/blob/main/Week02/Assignment.ipynb\" target=\"_parent\"><img src=\"https://colab.research.google.com/assets/colab-badge.svg\" alt=\"Open In Colab\"/></a>"
      ]
    },
    {
      "cell_type": "code",
      "source": [
        "import pandas as pd\n",
        "\n",
        "from sklearn.model_selection import train_test_split\n",
        "from sklearn.tree import DecisionTreeClassifier\n",
        "from sklearn.ensemble import RandomForestClassifier\n",
        "from sklearn.linear_model import LogisticRegression\n",
        "from sklearn.metrics import accuracy_score\n",
        "\n",
        "cols = [\"sepal_length\", \"sepal_width\", \"petal_length\", \"petal_width\", \"label\"]\n",
        "df = pd.read_csv(\"/content/drive/MyDrive/Colab Notebooks/iris.data\", header=None, names=cols).dropna()\n",
        "\n",
        "X = df.drop(columns=[\"label\"])\n",
        "y = df[\"label\"]\n",
        "\n",
        "X_train, X_test, y_train, y_test = train_test_split(\n",
        "    X, y, test_size=0.2, stratify=y, random_state=42\n",
        ")\n",
        "\n",
        "dt = DecisionTreeClassifier(random_state=42)\n",
        "rf = RandomForestClassifier(n_estimators=200, random_state=42)\n",
        "lr = LogisticRegression(max_iter=500)\n",
        "\n",
        "dt.fit(X_train, y_train)\n",
        "rf.fit(X_train, y_train)\n",
        "lr.fit(X_train, y_train)\n",
        "\n",
        "dt_acc = accuracy_score(y_test, dt.predict(X_test))\n",
        "rf_acc = accuracy_score(y_test, rf.predict(X_test))\n",
        "lr_acc = accuracy_score(y_test, lr.predict(X_test))\n",
        "\n",
        "print(\"Test Accuracy\")\n",
        "print(f\"Decision Tree : {dt_acc:.4f}\")\n",
        "print(f\"Random Forest : {rf_acc:.4f}\")\n",
        "print(f\"Logistic Reg  : {lr_acc:.4f}\")"
      ],
      "metadata": {
        "colab": {
          "base_uri": "https://localhost:8080/"
        },
        "id": "XipH4QVLxZZO",
        "outputId": "45287899-717e-4fd6-d8fd-d5403f7d1f9b"
      },
      "execution_count": 1,
      "outputs": [
        {
          "output_type": "stream",
          "name": "stdout",
          "text": [
            "Test Accuracy\n",
            "Decision Tree : 0.9333\n",
            "Random Forest : 0.9000\n",
            "Logistic Reg  : 0.9667\n"
          ]
        }
      ]
    },
    {
      "cell_type": "code",
      "source": [
        "import pandas as pd\n",
        "\n",
        "from sklearn.model_selection import train_test_split\n",
        "from sklearn.tree import DecisionTreeClassifier\n",
        "from sklearn.ensemble import RandomForestClassifier\n",
        "from sklearn.linear_model import LogisticRegression\n",
        "from sklearn.metrics import accuracy_score\n",
        "from sklearn.preprocessing import OneHotEncoder\n",
        "from sklearn.compose import ColumnTransformer\n",
        "from sklearn.pipeline import Pipeline\n",
        "\n",
        "df = pd.read_csv(\"/content/drive/MyDrive/Colab Notebooks/car_evaluation.csv\", header=None)\n",
        "\n",
        "df.columns = ['buying', 'maint', 'doors', 'persons', 'lug_boot', 'safety', 'class']\n",
        "\n",
        "X = df.drop(columns=[\"class\"])\n",
        "y = df[\"class\"]\n",
        "\n",
        "X_train, X_test, y_train, y_test = train_test_split(\n",
        "    X, y, test_size=0.2, random_state=42, stratify=y\n",
        ")\n",
        "\n",
        "categorical_features = X.columns.tolist()\n",
        "preprocessor = ColumnTransformer(\n",
        "    transformers=[\n",
        "        (\"cat\", OneHotEncoder(handle_unknown=\"ignore\"), categorical_features)\n",
        "    ]\n",
        ")\n",
        "\n",
        "dt = Pipeline(steps=[(\"pre\", preprocessor), (\"model\", DecisionTreeClassifier(random_state=42))])\n",
        "rf = Pipeline(steps=[(\"pre\", preprocessor), (\"model\", RandomForestClassifier(n_estimators=100, random_state=42))])\n",
        "lr = Pipeline(steps=[(\"pre\", preprocessor), (\"model\", LogisticRegression(max_iter=5000, random_state=42))])\n",
        "\n",
        "dt.fit(X_train, y_train)\n",
        "rf.fit(X_train, y_train)\n",
        "lr.fit(X_train, y_train)\n",
        "\n",
        "dt_acc = accuracy_score(y_test, dt.predict(X_test))\n",
        "rf_acc = accuracy_score(y_test, rf.predict(X_test))\n",
        "lr_acc = accuracy_score(y_test, lr.predict(X_test))\n",
        "\n",
        "print(\"Test Accuracy\")\n",
        "print(f\"Decision Tree : {dt_acc:.4f}\")\n",
        "print(f\"Random Forest : {rf_acc:.4f}\")\n",
        "print(f\"Logistic Reg  : {lr_acc:.4f}\")"
      ],
      "metadata": {
        "colab": {
          "base_uri": "https://localhost:8080/"
        },
        "id": "M-7JfStIxfvN",
        "outputId": "7651fcfd-1842-40c0-c996-735a14c6d85b"
      },
      "execution_count": 2,
      "outputs": [
        {
          "output_type": "stream",
          "name": "stdout",
          "text": [
            "Test Accuracy\n",
            "Decision Tree : 0.9740\n",
            "Random Forest : 0.9682\n",
            "Logistic Reg  : 0.9017\n"
          ]
        }
      ]
    },
    {
      "cell_type": "code",
      "source": [
        "import pandas as pd\n",
        "\n",
        "from sklearn.model_selection import train_test_split\n",
        "from sklearn.tree import DecisionTreeClassifier\n",
        "from sklearn.ensemble import RandomForestClassifier\n",
        "from sklearn.linear_model import LogisticRegression\n",
        "from sklearn.metrics import accuracy_score\n",
        "\n",
        "df = pd.read_csv(\"/content/drive/MyDrive/Colab Notebooks/heart.csv\", header=None, names=cols, skiprows=1).dropna()\n",
        "\n",
        "X = df.drop(columns=[\"label\"])\n",
        "y = df[\"label\"]\n",
        "\n",
        "X_train, X_test, y_train, y_test = train_test_split(\n",
        "    X, y, test_size=0.2, stratify=y, random_state=42\n",
        ")\n",
        "\n",
        "dt = DecisionTreeClassifier(random_state=42)\n",
        "rf = RandomForestClassifier(n_estimators=200, random_state=42)\n",
        "lr = LogisticRegression(max_iter=500)\n",
        "\n",
        "dt.fit(X_train, y_train)\n",
        "rf.fit(X_train, y_train)\n",
        "lr.fit(X_train, y_train)\n",
        "\n",
        "dt_acc = accuracy_score(y_test, dt.predict(X_test))\n",
        "rf_acc = accuracy_score(y_test, rf.predict(X_test))\n",
        "lr_acc = accuracy_score(y_test, lr.predict(X_test))\n",
        "\n",
        "print(\"Test Accuracy\")\n",
        "print(f\"Decision Tree : {dt_acc:.4f}\")\n",
        "print(f\"Random Forest : {rf_acc:.4f}\")\n",
        "print(f\"Logistic Reg  : {lr_acc:.4f}\")"
      ],
      "metadata": {
        "colab": {
          "base_uri": "https://localhost:8080/"
        },
        "id": "8KYwFkN4xkJg",
        "outputId": "d38e2f9e-f54c-4270-ac60-df0f9af218b2"
      },
      "execution_count": 3,
      "outputs": [
        {
          "output_type": "stream",
          "name": "stdout",
          "text": [
            "Test Accuracy\n",
            "Decision Tree : 0.6885\n",
            "Random Forest : 0.7377\n",
            "Logistic Reg  : 0.7705\n"
          ]
        }
      ]
    },
    {
      "cell_type": "code",
      "source": [
        "import pandas as pd\n",
        "\n",
        "from sklearn.model_selection import train_test_split\n",
        "from sklearn.tree import DecisionTreeClassifier\n",
        "from sklearn.ensemble import RandomForestClassifier\n",
        "from sklearn.linear_model import LogisticRegression\n",
        "from sklearn.metrics import accuracy_score\n",
        "\n",
        "df = pd.read_csv(\"/content/drive/MyDrive/Colab Notebooks/breast_cancer.csv\", header=None, names=cols, skiprows=1).dropna()\n",
        "\n",
        "X = df.drop(columns=[\"label\"])\n",
        "y = df[\"label\"]\n",
        "\n",
        "X_train, X_test, y_train, y_test = train_test_split(\n",
        "    X, y, test_size=0.2, stratify=y, random_state=42\n",
        ")\n",
        "\n",
        "dt = DecisionTreeClassifier(random_state=42)\n",
        "rf = RandomForestClassifier(n_estimators=200, random_state=42)\n",
        "lr = LogisticRegression(max_iter=500)\n",
        "\n",
        "dt.fit(X_train, y_train)\n",
        "rf.fit(X_train, y_train)\n",
        "lr.fit(X_train, y_train)\n",
        "\n",
        "dt_acc = accuracy_score(y_test, dt.predict(X_test))\n",
        "rf_acc = accuracy_score(y_test, rf.predict(X_test))\n",
        "lr_acc = accuracy_score(y_test, lr.predict(X_test))\n",
        "\n",
        "print(\"Test Accuracy\")\n",
        "print(f\"Decision Tree : {dt_acc:.4f}\")\n",
        "print(f\"Random Forest : {rf_acc:.4f}\")\n",
        "print(f\"Logistic Reg  : {lr_acc:.4f}\")"
      ],
      "metadata": {
        "colab": {
          "base_uri": "https://localhost:8080/"
        },
        "id": "FP7pnVoaxmgb",
        "outputId": "29e96d70-11db-4b74-d8dc-21c87497a3a3"
      },
      "execution_count": 4,
      "outputs": [
        {
          "output_type": "stream",
          "name": "stdout",
          "text": [
            "Test Accuracy\n",
            "Decision Tree : 0.9298\n",
            "Random Forest : 0.9298\n",
            "Logistic Reg  : 0.8158\n"
          ]
        }
      ]
    },
    {
      "cell_type": "code",
      "source": [
        "import pandas as pd\n",
        "from sklearn.model_selection import train_test_split\n",
        "from sklearn.tree import DecisionTreeClassifier\n",
        "from sklearn.ensemble import RandomForestClassifier\n",
        "from sklearn.linear_model import LogisticRegression\n",
        "from sklearn.metrics import accuracy_score\n",
        "\n",
        "df = pd.read_csv(\"/content/drive/MyDrive/Colab Notebooks/diabetes.csv\")\n",
        "\n",
        "X = df.drop(columns=[\"Outcome\"])\n",
        "y = df[\"Outcome\"]\n",
        "\n",
        "X_train, X_test, y_train, y_test = train_test_split(\n",
        "    X, y, test_size=0.2, stratify=y, random_state=42\n",
        ")\n",
        "\n",
        "dt = DecisionTreeClassifier(random_state=42)\n",
        "rf = RandomForestClassifier(n_estimators=200, random_state=42)\n",
        "lr = LogisticRegression(max_iter=1000)\n",
        "\n",
        "dt.fit(X_train, y_train)\n",
        "rf.fit(X_train, y_train)\n",
        "lr.fit(X_train, y_train)\n",
        "\n",
        "dt_acc = accuracy_score(y_test, dt.predict(X_test))\n",
        "rf_acc = accuracy_score(y_test, rf.predict(X_test))\n",
        "lr_acc = accuracy_score(y_test, lr.predict(X_test))\n",
        "\n",
        "print(\"Test Accuracy\")\n",
        "print(f\"Decision Tree : {dt_acc:.4f}\")\n",
        "print(f\"Random Forest : {rf_acc:.4f}\")\n",
        "print(f\"Logistic Reg  : {lr_acc:.4f}\")"
      ],
      "metadata": {
        "colab": {
          "base_uri": "https://localhost:8080/"
        },
        "id": "kUxS6kjhxpX4",
        "outputId": "4348f451-3fd7-4226-b954-b09bcb5c3254"
      },
      "execution_count": 5,
      "outputs": [
        {
          "output_type": "stream",
          "name": "stdout",
          "text": [
            "Test Accuracy\n",
            "Decision Tree : 0.7273\n",
            "Random Forest : 0.7468\n",
            "Logistic Reg  : 0.7143\n"
          ]
        }
      ]
    },
    {
      "cell_type": "code",
      "source": [
        "import pandas as pd\n",
        "from sklearn.model_selection import train_test_split\n",
        "from sklearn.tree import DecisionTreeRegressor\n",
        "from sklearn.ensemble import RandomForestRegressor\n",
        "from sklearn.linear_model import LinearRegression\n",
        "from sklearn.metrics import mean_squared_error, r2_score\n",
        "import numpy as np\n",
        "\n",
        "df = pd.read_csv(\"/content/drive/MyDrive/Colab Notebooks/diabetes.csv\")\n",
        "\n",
        "X = df.drop(['Outcome', 'BMI'], axis=1)\n",
        "y = df['BMI']\n",
        "\n",
        "X_train, X_test, y_train, y_test = train_test_split(\n",
        "    X, y, test_size=0.2, random_state=42\n",
        ")\n",
        "\n",
        "dt = DecisionTreeRegressor(random_state=42)\n",
        "rf = RandomForestRegressor(n_estimators=200, random_state=42)\n",
        "lr = LinearRegression()\n",
        "\n",
        "dt.fit(X_train, y_train)\n",
        "rf.fit(X_train, y_train)\n",
        "lr.fit(X_train, y_train)\n",
        "\n",
        "for name, model in [(\"Decision Tree\", dt), (\"Random Forest\", rf), (\"Linear Regression\", lr)]:\n",
        "    preds = model.predict(X_test)\n",
        "    mse = mean_squared_error(y_test, preds)\n",
        "    r2 = r2_score(y_test, preds)\n",
        "    print(f\"{name} -> RMSE: {np.sqrt(mse):.2f}, R²: {r2:.4f}\")"
      ],
      "metadata": {
        "colab": {
          "base_uri": "https://localhost:8080/"
        },
        "id": "s1zomFzcxupO",
        "outputId": "44e0c620-3d58-4fb5-9839-873aabb4b9ed"
      },
      "execution_count": 6,
      "outputs": [
        {
          "output_type": "stream",
          "name": "stdout",
          "text": [
            "Decision Tree -> RMSE: 10.20, R²: -0.4648\n",
            "Random Forest -> RMSE: 6.84, R²: 0.3423\n",
            "Linear Regression -> RMSE: 7.23, R²: 0.2651\n"
          ]
        }
      ]
    }
  ]
}