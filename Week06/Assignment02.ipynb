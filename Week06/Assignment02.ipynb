{
  "nbformat": 4,
  "nbformat_minor": 0,
  "metadata": {
    "colab": {
      "provenance": [],
      "authorship_tag": "ABX9TyPU8aFZgykJiTVoNy6Q0shC",
      "include_colab_link": true
    },
    "kernelspec": {
      "name": "python3",
      "display_name": "Python 3"
    },
    "language_info": {
      "name": "python"
    }
  },
  "cells": [
    {
      "cell_type": "markdown",
      "metadata": {
        "id": "view-in-github",
        "colab_type": "text"
      },
      "source": [
        "<a href=\"https://colab.research.google.com/github/December04/MachineLearningProgramming/blob/main/Week06/Assignment02.ipynb\" target=\"_parent\"><img src=\"https://colab.research.google.com/assets/colab-badge.svg\" alt=\"Open In Colab\"/></a>"
      ]
    },
    {
      "cell_type": "code",
      "source": [
        "import tensorflow as tf\n",
        "from tensorflow import keras\n",
        "from tensorflow.keras import layers"
      ],
      "metadata": {
        "id": "7cH9JZ1GaWCe"
      },
      "execution_count": 55,
      "outputs": []
    },
    {
      "cell_type": "code",
      "source": [
        "(x_train, y_train), (x_test, y_test) = keras.datasets.mnist.load_data()\n",
        "\n",
        "# 데이터 정규화\n",
        "x_train = x_train.astype(\"float32\") / 255.0\n",
        "\n",
        "x_test  = x_test.astype(\"float32\") / 255.0"
      ],
      "metadata": {
        "id": "HwVNek-nakLf"
      },
      "execution_count": 57,
      "outputs": []
    },
    {
      "cell_type": "code",
      "source": [
        "x_train = x_train[..., tf.newaxis]  # (60000, 28, 28, 1)\n",
        "\n",
        "x_test  = x_test[..., tf.newaxis]   # (10000, 28, 28, 1)"
      ],
      "metadata": {
        "id": "TezQzkiKanFd"
      },
      "execution_count": 58,
      "outputs": []
    },
    {
      "cell_type": "code",
      "source": [
        "# DNN 모델 구\n",
        "model_dnn = models.Sequential([\n",
        "    layers.Flatten(input_shape=(28, 28)),\n",
        "    layers.Dense(256, activation='relu'),\n",
        "    layers.Dropout(0.3),\n",
        "    layers.Dense(128, activation='relu'),\n",
        "    layers.Dropout(0.3),\n",
        "    layers.Dense(10, activation='softmax')\n",
        "])"
      ],
      "metadata": {
        "colab": {
          "base_uri": "https://localhost:8080/"
        },
        "id": "rWJ-XCarapYR",
        "outputId": "15114df3-ed03-4727-8ca4-757412330a0a"
      },
      "execution_count": 59,
      "outputs": [
        {
          "output_type": "stream",
          "name": "stderr",
          "text": [
            "/usr/local/lib/python3.12/dist-packages/keras/src/layers/reshaping/flatten.py:37: UserWarning: Do not pass an `input_shape`/`input_dim` argument to a layer. When using Sequential models, prefer using an `Input(shape)` object as the first layer in the model instead.\n",
            "  super().__init__(**kwargs)\n"
          ]
        }
      ]
    },
    {
      "cell_type": "code",
      "source": [
        "model_dnn.compile(optimizer='adam',\n",
        "                  loss='sparse_categorical_crossentropy',\n",
        "                  metrics=['accuracy'])"
      ],
      "metadata": {
        "id": "W3AcWTDOdfKZ"
      },
      "execution_count": 60,
      "outputs": []
    },
    {
      "cell_type": "code",
      "source": [
        "history_dnn = model_dnn.fit(x_train, y_train, epochs=10,\n",
        "                            validation_split=0.1, batch_size=128, verbose=2)"
      ],
      "metadata": {
        "colab": {
          "base_uri": "https://localhost:8080/"
        },
        "id": "INg21pX3dh7-",
        "outputId": "936c108c-23e6-4c27-8c74-a63cf0d44fe2"
      },
      "execution_count": 61,
      "outputs": [
        {
          "output_type": "stream",
          "name": "stdout",
          "text": [
            "Epoch 1/10\n",
            "422/422 - 5s - 13ms/step - accuracy: 0.8764 - loss: 0.4103 - val_accuracy: 0.9643 - val_loss: 0.1252\n",
            "Epoch 2/10\n",
            "422/422 - 4s - 9ms/step - accuracy: 0.9471 - loss: 0.1757 - val_accuracy: 0.9732 - val_loss: 0.0960\n",
            "Epoch 3/10\n",
            "422/422 - 4s - 11ms/step - accuracy: 0.9604 - loss: 0.1308 - val_accuracy: 0.9762 - val_loss: 0.0771\n",
            "Epoch 4/10\n",
            "422/422 - 4s - 9ms/step - accuracy: 0.9678 - loss: 0.1059 - val_accuracy: 0.9775 - val_loss: 0.0764\n",
            "Epoch 5/10\n",
            "422/422 - 5s - 11ms/step - accuracy: 0.9709 - loss: 0.0934 - val_accuracy: 0.9793 - val_loss: 0.0710\n",
            "Epoch 6/10\n",
            "422/422 - 6s - 15ms/step - accuracy: 0.9752 - loss: 0.0794 - val_accuracy: 0.9812 - val_loss: 0.0693\n",
            "Epoch 7/10\n",
            "422/422 - 4s - 9ms/step - accuracy: 0.9783 - loss: 0.0702 - val_accuracy: 0.9787 - val_loss: 0.0701\n",
            "Epoch 8/10\n",
            "422/422 - 4s - 8ms/step - accuracy: 0.9801 - loss: 0.0631 - val_accuracy: 0.9798 - val_loss: 0.0692\n",
            "Epoch 9/10\n",
            "422/422 - 5s - 11ms/step - accuracy: 0.9809 - loss: 0.0608 - val_accuracy: 0.9818 - val_loss: 0.0654\n",
            "Epoch 10/10\n",
            "422/422 - 4s - 9ms/step - accuracy: 0.9821 - loss: 0.0554 - val_accuracy: 0.9817 - val_loss: 0.0675\n"
          ]
        }
      ]
    },
    {
      "cell_type": "code",
      "source": [
        "test_loss, test_acc = model_dnn.evaluate(x_test, y_test, verbose=2)\n",
        "print(f\"DNN Test Accuracy: {test_acc:.4f}\")"
      ],
      "metadata": {
        "colab": {
          "base_uri": "https://localhost:8080/"
        },
        "id": "9wLtJBzwdurL",
        "outputId": "fed0b4d2-542e-41fa-9374-e82d0b2914c8"
      },
      "execution_count": 62,
      "outputs": [
        {
          "output_type": "stream",
          "name": "stdout",
          "text": [
            "313/313 - 1s - 2ms/step - accuracy: 0.9819 - loss: 0.0629\n",
            "DNN Test Accuracy: 0.9819\n"
          ]
        }
      ]
    }
  ]
}